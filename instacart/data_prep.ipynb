{
 "cells": [
  {
   "cell_type": "code",
   "execution_count": 1,
   "id": "a01b9f0f",
   "metadata": {},
   "outputs": [],
   "source": [
    "import pandas as pd\n",
    "import numpy as np\n",
    "import matplotlib.pyplot as plt\n",
    "import warnings\n",
    "import copy\n",
    "warnings.simplefilter(action='ignore')"
   ]
  },
  {
   "cell_type": "code",
   "execution_count": 2,
   "id": "cb37d09b",
   "metadata": {},
   "outputs": [],
   "source": [
    "data_train = pd.read_csv('order_products__prior.csv').iloc[:,0:3]\n",
    "data_test = pd.read_csv('order_products__train.csv').iloc[:,0:3]"
   ]
  },
  {
   "cell_type": "code",
   "execution_count": 3,
   "id": "705ba174",
   "metadata": {},
   "outputs": [
    {
     "name": "stdout",
     "output_type": "stream",
     "text": [
      "(32434489, 3)\n",
      "(1384617, 3)\n"
     ]
    }
   ],
   "source": [
    "print(data_train.shape)\n",
    "print(data_test.shape)"
   ]
  },
  {
   "cell_type": "code",
   "execution_count": 4,
   "id": "c92b8c7e",
   "metadata": {},
   "outputs": [
    {
     "data": {
      "text/html": [
       "<div>\n",
       "<style scoped>\n",
       "    .dataframe tbody tr th:only-of-type {\n",
       "        vertical-align: middle;\n",
       "    }\n",
       "\n",
       "    .dataframe tbody tr th {\n",
       "        vertical-align: top;\n",
       "    }\n",
       "\n",
       "    .dataframe thead th {\n",
       "        text-align: right;\n",
       "    }\n",
       "</style>\n",
       "<table border=\"1\" class=\"dataframe\">\n",
       "  <thead>\n",
       "    <tr style=\"text-align: right;\">\n",
       "      <th></th>\n",
       "      <th>order_id</th>\n",
       "      <th>product_id</th>\n",
       "      <th>add_to_cart_order</th>\n",
       "    </tr>\n",
       "  </thead>\n",
       "  <tbody>\n",
       "    <tr>\n",
       "      <th>0</th>\n",
       "      <td>2</td>\n",
       "      <td>33120</td>\n",
       "      <td>1</td>\n",
       "    </tr>\n",
       "    <tr>\n",
       "      <th>1</th>\n",
       "      <td>2</td>\n",
       "      <td>28985</td>\n",
       "      <td>2</td>\n",
       "    </tr>\n",
       "    <tr>\n",
       "      <th>2</th>\n",
       "      <td>2</td>\n",
       "      <td>9327</td>\n",
       "      <td>3</td>\n",
       "    </tr>\n",
       "    <tr>\n",
       "      <th>3</th>\n",
       "      <td>2</td>\n",
       "      <td>45918</td>\n",
       "      <td>4</td>\n",
       "    </tr>\n",
       "    <tr>\n",
       "      <th>4</th>\n",
       "      <td>2</td>\n",
       "      <td>30035</td>\n",
       "      <td>5</td>\n",
       "    </tr>\n",
       "    <tr>\n",
       "      <th>...</th>\n",
       "      <td>...</td>\n",
       "      <td>...</td>\n",
       "      <td>...</td>\n",
       "    </tr>\n",
       "    <tr>\n",
       "      <th>32434484</th>\n",
       "      <td>3421083</td>\n",
       "      <td>39678</td>\n",
       "      <td>6</td>\n",
       "    </tr>\n",
       "    <tr>\n",
       "      <th>32434485</th>\n",
       "      <td>3421083</td>\n",
       "      <td>11352</td>\n",
       "      <td>7</td>\n",
       "    </tr>\n",
       "    <tr>\n",
       "      <th>32434486</th>\n",
       "      <td>3421083</td>\n",
       "      <td>4600</td>\n",
       "      <td>8</td>\n",
       "    </tr>\n",
       "    <tr>\n",
       "      <th>32434487</th>\n",
       "      <td>3421083</td>\n",
       "      <td>24852</td>\n",
       "      <td>9</td>\n",
       "    </tr>\n",
       "    <tr>\n",
       "      <th>32434488</th>\n",
       "      <td>3421083</td>\n",
       "      <td>5020</td>\n",
       "      <td>10</td>\n",
       "    </tr>\n",
       "  </tbody>\n",
       "</table>\n",
       "<p>32434489 rows × 3 columns</p>\n",
       "</div>"
      ],
      "text/plain": [
       "          order_id  product_id  add_to_cart_order\n",
       "0                2       33120                  1\n",
       "1                2       28985                  2\n",
       "2                2        9327                  3\n",
       "3                2       45918                  4\n",
       "4                2       30035                  5\n",
       "...            ...         ...                ...\n",
       "32434484   3421083       39678                  6\n",
       "32434485   3421083       11352                  7\n",
       "32434486   3421083        4600                  8\n",
       "32434487   3421083       24852                  9\n",
       "32434488   3421083        5020                 10\n",
       "\n",
       "[32434489 rows x 3 columns]"
      ]
     },
     "execution_count": 4,
     "metadata": {},
     "output_type": "execute_result"
    }
   ],
   "source": [
    "data_train"
   ]
  },
  {
   "cell_type": "code",
   "execution_count": 5,
   "id": "ea3f0e55",
   "metadata": {},
   "outputs": [
    {
     "data": {
      "text/html": [
       "<div>\n",
       "<style scoped>\n",
       "    .dataframe tbody tr th:only-of-type {\n",
       "        vertical-align: middle;\n",
       "    }\n",
       "\n",
       "    .dataframe tbody tr th {\n",
       "        vertical-align: top;\n",
       "    }\n",
       "\n",
       "    .dataframe thead th {\n",
       "        text-align: right;\n",
       "    }\n",
       "</style>\n",
       "<table border=\"1\" class=\"dataframe\">\n",
       "  <thead>\n",
       "    <tr style=\"text-align: right;\">\n",
       "      <th></th>\n",
       "      <th>order_id</th>\n",
       "      <th>product_id</th>\n",
       "      <th>add_to_cart_order</th>\n",
       "    </tr>\n",
       "  </thead>\n",
       "  <tbody>\n",
       "    <tr>\n",
       "      <th>0</th>\n",
       "      <td>1</td>\n",
       "      <td>49302</td>\n",
       "      <td>1</td>\n",
       "    </tr>\n",
       "    <tr>\n",
       "      <th>1</th>\n",
       "      <td>1</td>\n",
       "      <td>11109</td>\n",
       "      <td>2</td>\n",
       "    </tr>\n",
       "    <tr>\n",
       "      <th>2</th>\n",
       "      <td>1</td>\n",
       "      <td>10246</td>\n",
       "      <td>3</td>\n",
       "    </tr>\n",
       "    <tr>\n",
       "      <th>3</th>\n",
       "      <td>1</td>\n",
       "      <td>49683</td>\n",
       "      <td>4</td>\n",
       "    </tr>\n",
       "    <tr>\n",
       "      <th>4</th>\n",
       "      <td>1</td>\n",
       "      <td>43633</td>\n",
       "      <td>5</td>\n",
       "    </tr>\n",
       "    <tr>\n",
       "      <th>...</th>\n",
       "      <td>...</td>\n",
       "      <td>...</td>\n",
       "      <td>...</td>\n",
       "    </tr>\n",
       "    <tr>\n",
       "      <th>1384612</th>\n",
       "      <td>3421063</td>\n",
       "      <td>14233</td>\n",
       "      <td>3</td>\n",
       "    </tr>\n",
       "    <tr>\n",
       "      <th>1384613</th>\n",
       "      <td>3421063</td>\n",
       "      <td>35548</td>\n",
       "      <td>4</td>\n",
       "    </tr>\n",
       "    <tr>\n",
       "      <th>1384614</th>\n",
       "      <td>3421070</td>\n",
       "      <td>35951</td>\n",
       "      <td>1</td>\n",
       "    </tr>\n",
       "    <tr>\n",
       "      <th>1384615</th>\n",
       "      <td>3421070</td>\n",
       "      <td>16953</td>\n",
       "      <td>2</td>\n",
       "    </tr>\n",
       "    <tr>\n",
       "      <th>1384616</th>\n",
       "      <td>3421070</td>\n",
       "      <td>4724</td>\n",
       "      <td>3</td>\n",
       "    </tr>\n",
       "  </tbody>\n",
       "</table>\n",
       "<p>1384617 rows × 3 columns</p>\n",
       "</div>"
      ],
      "text/plain": [
       "         order_id  product_id  add_to_cart_order\n",
       "0               1       49302                  1\n",
       "1               1       11109                  2\n",
       "2               1       10246                  3\n",
       "3               1       49683                  4\n",
       "4               1       43633                  5\n",
       "...           ...         ...                ...\n",
       "1384612   3421063       14233                  3\n",
       "1384613   3421063       35548                  4\n",
       "1384614   3421070       35951                  1\n",
       "1384615   3421070       16953                  2\n",
       "1384616   3421070        4724                  3\n",
       "\n",
       "[1384617 rows x 3 columns]"
      ]
     },
     "execution_count": 5,
     "metadata": {},
     "output_type": "execute_result"
    }
   ],
   "source": [
    "data_test"
   ]
  },
  {
   "cell_type": "code",
   "execution_count": 6,
   "id": "8e85cb3d",
   "metadata": {},
   "outputs": [],
   "source": [
    "unique_train_order_ids = set(data_train['order_id'])\n",
    "unique_test_order_ids = set(data_test['order_id'])"
   ]
  },
  {
   "cell_type": "code",
   "execution_count": 7,
   "id": "c7ef5ed5",
   "metadata": {},
   "outputs": [
    {
     "name": "stdout",
     "output_type": "stream",
     "text": [
      "3214874\n",
      "131209\n"
     ]
    }
   ],
   "source": [
    "print(len(unique_train_order_ids)) # number of orders in training\n",
    "print(len(unique_test_order_ids)) # number of orders in test"
   ]
  },
  {
   "cell_type": "code",
   "execution_count": 8,
   "id": "9fd200c4",
   "metadata": {},
   "outputs": [
    {
     "data": {
      "text/plain": [
       "set()"
      ]
     },
     "execution_count": 8,
     "metadata": {},
     "output_type": "execute_result"
    }
   ],
   "source": [
    "unique_train_order_ids.intersection(unique_test_order_ids) # no overlap"
   ]
  },
  {
   "cell_type": "markdown",
   "id": "61410b13",
   "metadata": {},
   "source": [
    "### Only include items which appear >= 50000 times"
   ]
  },
  {
   "cell_type": "code",
   "execution_count": 9,
   "id": "227e8d7c",
   "metadata": {},
   "outputs": [],
   "source": [
    "data_all = pd.concat([data_train, data_test])"
   ]
  },
  {
   "cell_type": "code",
   "execution_count": 10,
   "id": "4c07582c",
   "metadata": {},
   "outputs": [],
   "source": [
    "items_occurrence = data_all.groupby(['product_id'])['order_id'].count().reset_index()"
   ]
  },
  {
   "cell_type": "code",
   "execution_count": 11,
   "id": "2f437531",
   "metadata": {},
   "outputs": [
    {
     "data": {
      "text/html": [
       "<div>\n",
       "<style scoped>\n",
       "    .dataframe tbody tr th:only-of-type {\n",
       "        vertical-align: middle;\n",
       "    }\n",
       "\n",
       "    .dataframe tbody tr th {\n",
       "        vertical-align: top;\n",
       "    }\n",
       "\n",
       "    .dataframe thead th {\n",
       "        text-align: right;\n",
       "    }\n",
       "</style>\n",
       "<table border=\"1\" class=\"dataframe\">\n",
       "  <thead>\n",
       "    <tr style=\"text-align: right;\">\n",
       "      <th></th>\n",
       "      <th>product_id</th>\n",
       "      <th>order_id</th>\n",
       "    </tr>\n",
       "  </thead>\n",
       "  <tbody>\n",
       "    <tr>\n",
       "      <th>0</th>\n",
       "      <td>1</td>\n",
       "      <td>1928</td>\n",
       "    </tr>\n",
       "    <tr>\n",
       "      <th>1</th>\n",
       "      <td>2</td>\n",
       "      <td>94</td>\n",
       "    </tr>\n",
       "    <tr>\n",
       "      <th>2</th>\n",
       "      <td>3</td>\n",
       "      <td>283</td>\n",
       "    </tr>\n",
       "    <tr>\n",
       "      <th>3</th>\n",
       "      <td>4</td>\n",
       "      <td>351</td>\n",
       "    </tr>\n",
       "    <tr>\n",
       "      <th>4</th>\n",
       "      <td>5</td>\n",
       "      <td>16</td>\n",
       "    </tr>\n",
       "    <tr>\n",
       "      <th>...</th>\n",
       "      <td>...</td>\n",
       "      <td>...</td>\n",
       "    </tr>\n",
       "    <tr>\n",
       "      <th>49680</th>\n",
       "      <td>49684</td>\n",
       "      <td>9</td>\n",
       "    </tr>\n",
       "    <tr>\n",
       "      <th>49681</th>\n",
       "      <td>49685</td>\n",
       "      <td>49</td>\n",
       "    </tr>\n",
       "    <tr>\n",
       "      <th>49682</th>\n",
       "      <td>49686</td>\n",
       "      <td>127</td>\n",
       "    </tr>\n",
       "    <tr>\n",
       "      <th>49683</th>\n",
       "      <td>49687</td>\n",
       "      <td>14</td>\n",
       "    </tr>\n",
       "    <tr>\n",
       "      <th>49684</th>\n",
       "      <td>49688</td>\n",
       "      <td>93</td>\n",
       "    </tr>\n",
       "  </tbody>\n",
       "</table>\n",
       "<p>49685 rows × 2 columns</p>\n",
       "</div>"
      ],
      "text/plain": [
       "       product_id  order_id\n",
       "0               1      1928\n",
       "1               2        94\n",
       "2               3       283\n",
       "3               4       351\n",
       "4               5        16\n",
       "...           ...       ...\n",
       "49680       49684         9\n",
       "49681       49685        49\n",
       "49682       49686       127\n",
       "49683       49687        14\n",
       "49684       49688        93\n",
       "\n",
       "[49685 rows x 2 columns]"
      ]
     },
     "execution_count": 11,
     "metadata": {},
     "output_type": "execute_result"
    }
   ],
   "source": [
    "items_occurrence #### 49685 distinct items"
   ]
  },
  {
   "cell_type": "code",
   "execution_count": 12,
   "id": "eb42db69",
   "metadata": {},
   "outputs": [
    {
     "data": {
      "text/plain": [
       "63"
      ]
     },
     "execution_count": 12,
     "metadata": {},
     "output_type": "execute_result"
    }
   ],
   "source": [
    "items_50000 = np.array(items_occurrence[items_occurrence['order_id'] >= 50000]['product_id'])\n",
    "len(items_50000) #### 63 distinct items"
   ]
  },
  {
   "cell_type": "code",
   "execution_count": 13,
   "id": "a68be3ef",
   "metadata": {},
   "outputs": [],
   "source": [
    "data_train_subset = data_train[data_train['product_id'].isin(items_50000)]\n",
    "data_test_subset = data_test[data_test['product_id'].isin(items_50000)]"
   ]
  },
  {
   "cell_type": "markdown",
   "id": "8ca43718",
   "metadata": {},
   "source": [
    "### Only include baskets containing >= 10 items"
   ]
  },
  {
   "cell_type": "code",
   "execution_count": 14,
   "id": "eb9711d6",
   "metadata": {},
   "outputs": [
    {
     "data": {
      "text/plain": [
       "24781"
      ]
     },
     "execution_count": 14,
     "metadata": {},
     "output_type": "execute_result"
    }
   ],
   "source": [
    "basket_10_train = data_train_subset.groupby(['order_id'])['product_id'].count().reset_index()\n",
    "basket_10_train = np.array(basket_10_train[basket_10_train['product_id'] >= 10]['order_id'])\n",
    "len(basket_10_train) #### 25K orders in training"
   ]
  },
  {
   "cell_type": "code",
   "execution_count": 15,
   "id": "6a253d3b",
   "metadata": {},
   "outputs": [
    {
     "data": {
      "text/plain": [
       "1433"
      ]
     },
     "execution_count": 15,
     "metadata": {},
     "output_type": "execute_result"
    }
   ],
   "source": [
    "basket_10_test = data_test_subset.groupby(['order_id'])['product_id'].count().reset_index()\n",
    "basket_10_test = np.array(basket_10_test[basket_10_test['product_id'] >= 10]['order_id'])\n",
    "len(basket_10_test) #### 1.4K orders in test"
   ]
  },
  {
   "cell_type": "code",
   "execution_count": 16,
   "id": "abbceb24",
   "metadata": {},
   "outputs": [],
   "source": [
    "data_train_final = data_train_subset[data_train_subset['order_id'].isin(basket_10_train)]\n",
    "data_test_final = data_test_subset[data_test_subset['order_id'].isin(basket_10_test)]"
   ]
  },
  {
   "cell_type": "code",
   "execution_count": 17,
   "id": "f3b1f7e6",
   "metadata": {},
   "outputs": [],
   "source": [
    "data_train_final['rank'] = data_train_final.groupby('order_id')['add_to_cart_order'] \\\n",
    "    .rank(method=\"dense\", ascending=True)\n",
    "\n",
    "data_test_final['rank'] = data_test_final.groupby('order_id')['add_to_cart_order'] \\\n",
    "    .rank(method=\"dense\", ascending=True)"
   ]
  },
  {
   "cell_type": "code",
   "execution_count": 18,
   "id": "bc66a6ca",
   "metadata": {},
   "outputs": [],
   "source": [
    "del data_train_final['add_to_cart_order']\n",
    "del data_test_final['add_to_cart_order']\n",
    "\n",
    "data_train_final['rank'] = data_train_final['rank'].astype(int)\n",
    "data_test_final['rank'] = data_test_final['rank'].astype(int)\n",
    "\n",
    "data_train_final = data_train_final.reset_index(drop = True)\n",
    "data_test_final = data_test_final.reset_index(drop = True)"
   ]
  },
  {
   "cell_type": "code",
   "execution_count": 19,
   "id": "2c280a84",
   "metadata": {},
   "outputs": [],
   "source": [
    "unique_product_ids = pd.concat([data_train_final['product_id'], data_test_final['product_id']]).unique()\n",
    "\n",
    "product_id_map = {prod_id: 1 + idx for idx, prod_id in enumerate(unique_product_ids)}\n",
    "\n",
    "data_train_final['product_id'] = data_train_final['product_id'].map(product_id_map)\n",
    "data_test_final['product_id'] = data_test_final['product_id'].map(product_id_map)"
   ]
  },
  {
   "cell_type": "code",
   "execution_count": 27,
   "id": "b89889b1",
   "metadata": {},
   "outputs": [
    {
     "data": {
      "text/plain": [
       "array([21903, 30391, 46667, 13176, 21616,  8518, 22935,  5876, 48679,\n",
       "       24838, 31717, 47209, 26209, 34969, 27966, 37646, 44632, 16797,\n",
       "       39275,  5077, 10749, 49235, 21137, 28204, 21938, 46979, 47626,\n",
       "       44359, 34126, 28985, 24852, 41950, 30489,  9076, 24964, 45007,\n",
       "       42265, 49683, 47766, 39877, 19057, 40706,  5450, 43961, 39928,\n",
       "       22825, 12341, 17794,  4605, 22035, 27845, 27104, 26604,  8277,\n",
       "        4920, 25890, 31506, 35951, 45066, 24184, 19660, 27086, 43352])"
      ]
     },
     "execution_count": 27,
     "metadata": {},
     "output_type": "execute_result"
    }
   ],
   "source": [
    "unique_product_ids"
   ]
  },
  {
   "cell_type": "code",
   "execution_count": 20,
   "id": "1a5455db",
   "metadata": {
    "scrolled": true
   },
   "outputs": [
    {
     "data": {
      "text/html": [
       "<div>\n",
       "<style scoped>\n",
       "    .dataframe tbody tr th:only-of-type {\n",
       "        vertical-align: middle;\n",
       "    }\n",
       "\n",
       "    .dataframe tbody tr th {\n",
       "        vertical-align: top;\n",
       "    }\n",
       "\n",
       "    .dataframe thead th {\n",
       "        text-align: right;\n",
       "    }\n",
       "</style>\n",
       "<table border=\"1\" class=\"dataframe\">\n",
       "  <thead>\n",
       "    <tr style=\"text-align: right;\">\n",
       "      <th></th>\n",
       "      <th>order_id</th>\n",
       "      <th>product_id</th>\n",
       "      <th>rank</th>\n",
       "    </tr>\n",
       "  </thead>\n",
       "  <tbody>\n",
       "    <tr>\n",
       "      <th>0</th>\n",
       "      <td>251</td>\n",
       "      <td>1</td>\n",
       "      <td>1</td>\n",
       "    </tr>\n",
       "    <tr>\n",
       "      <th>1</th>\n",
       "      <td>251</td>\n",
       "      <td>2</td>\n",
       "      <td>2</td>\n",
       "    </tr>\n",
       "    <tr>\n",
       "      <th>2</th>\n",
       "      <td>251</td>\n",
       "      <td>3</td>\n",
       "      <td>3</td>\n",
       "    </tr>\n",
       "    <tr>\n",
       "      <th>3</th>\n",
       "      <td>251</td>\n",
       "      <td>4</td>\n",
       "      <td>4</td>\n",
       "    </tr>\n",
       "    <tr>\n",
       "      <th>4</th>\n",
       "      <td>251</td>\n",
       "      <td>5</td>\n",
       "      <td>5</td>\n",
       "    </tr>\n",
       "    <tr>\n",
       "      <th>...</th>\n",
       "      <td>...</td>\n",
       "      <td>...</td>\n",
       "      <td>...</td>\n",
       "    </tr>\n",
       "    <tr>\n",
       "      <th>275340</th>\n",
       "      <td>3421030</td>\n",
       "      <td>36</td>\n",
       "      <td>6</td>\n",
       "    </tr>\n",
       "    <tr>\n",
       "      <th>275341</th>\n",
       "      <td>3421030</td>\n",
       "      <td>48</td>\n",
       "      <td>7</td>\n",
       "    </tr>\n",
       "    <tr>\n",
       "      <th>275342</th>\n",
       "      <td>3421030</td>\n",
       "      <td>9</td>\n",
       "      <td>8</td>\n",
       "    </tr>\n",
       "    <tr>\n",
       "      <th>275343</th>\n",
       "      <td>3421030</td>\n",
       "      <td>11</td>\n",
       "      <td>9</td>\n",
       "    </tr>\n",
       "    <tr>\n",
       "      <th>275344</th>\n",
       "      <td>3421030</td>\n",
       "      <td>13</td>\n",
       "      <td>10</td>\n",
       "    </tr>\n",
       "  </tbody>\n",
       "</table>\n",
       "<p>275345 rows × 3 columns</p>\n",
       "</div>"
      ],
      "text/plain": [
       "        order_id  product_id  rank\n",
       "0            251           1     1\n",
       "1            251           2     2\n",
       "2            251           3     3\n",
       "3            251           4     4\n",
       "4            251           5     5\n",
       "...          ...         ...   ...\n",
       "275340   3421030          36     6\n",
       "275341   3421030          48     7\n",
       "275342   3421030           9     8\n",
       "275343   3421030          11     9\n",
       "275344   3421030          13    10\n",
       "\n",
       "[275345 rows x 3 columns]"
      ]
     },
     "execution_count": 20,
     "metadata": {},
     "output_type": "execute_result"
    }
   ],
   "source": [
    "data_train_final"
   ]
  },
  {
   "cell_type": "code",
   "execution_count": 21,
   "id": "512a0ea0",
   "metadata": {
    "scrolled": true
   },
   "outputs": [
    {
     "data": {
      "text/html": [
       "<div>\n",
       "<style scoped>\n",
       "    .dataframe tbody tr th:only-of-type {\n",
       "        vertical-align: middle;\n",
       "    }\n",
       "\n",
       "    .dataframe tbody tr th {\n",
       "        vertical-align: top;\n",
       "    }\n",
       "\n",
       "    .dataframe thead th {\n",
       "        text-align: right;\n",
       "    }\n",
       "</style>\n",
       "<table border=\"1\" class=\"dataframe\">\n",
       "  <thead>\n",
       "    <tr style=\"text-align: right;\">\n",
       "      <th></th>\n",
       "      <th>order_id</th>\n",
       "      <th>product_id</th>\n",
       "      <th>rank</th>\n",
       "    </tr>\n",
       "  </thead>\n",
       "  <tbody>\n",
       "    <tr>\n",
       "      <th>0</th>\n",
       "      <td>878</td>\n",
       "      <td>31</td>\n",
       "      <td>1</td>\n",
       "    </tr>\n",
       "    <tr>\n",
       "      <th>1</th>\n",
       "      <td>878</td>\n",
       "      <td>59</td>\n",
       "      <td>2</td>\n",
       "    </tr>\n",
       "    <tr>\n",
       "      <th>2</th>\n",
       "      <td>878</td>\n",
       "      <td>1</td>\n",
       "      <td>3</td>\n",
       "    </tr>\n",
       "    <tr>\n",
       "      <th>3</th>\n",
       "      <td>878</td>\n",
       "      <td>35</td>\n",
       "      <td>4</td>\n",
       "    </tr>\n",
       "    <tr>\n",
       "      <th>4</th>\n",
       "      <td>878</td>\n",
       "      <td>12</td>\n",
       "      <td>5</td>\n",
       "    </tr>\n",
       "    <tr>\n",
       "      <th>...</th>\n",
       "      <td>...</td>\n",
       "      <td>...</td>\n",
       "      <td>...</td>\n",
       "    </tr>\n",
       "    <tr>\n",
       "      <th>16061</th>\n",
       "      <td>3420286</td>\n",
       "      <td>46</td>\n",
       "      <td>6</td>\n",
       "    </tr>\n",
       "    <tr>\n",
       "      <th>16062</th>\n",
       "      <td>3420286</td>\n",
       "      <td>15</td>\n",
       "      <td>7</td>\n",
       "    </tr>\n",
       "    <tr>\n",
       "      <th>16063</th>\n",
       "      <td>3420286</td>\n",
       "      <td>36</td>\n",
       "      <td>8</td>\n",
       "    </tr>\n",
       "    <tr>\n",
       "      <th>16064</th>\n",
       "      <td>3420286</td>\n",
       "      <td>20</td>\n",
       "      <td>9</td>\n",
       "    </tr>\n",
       "    <tr>\n",
       "      <th>16065</th>\n",
       "      <td>3420286</td>\n",
       "      <td>7</td>\n",
       "      <td>10</td>\n",
       "    </tr>\n",
       "  </tbody>\n",
       "</table>\n",
       "<p>16066 rows × 3 columns</p>\n",
       "</div>"
      ],
      "text/plain": [
       "       order_id  product_id  rank\n",
       "0           878          31     1\n",
       "1           878          59     2\n",
       "2           878           1     3\n",
       "3           878          35     4\n",
       "4           878          12     5\n",
       "...         ...         ...   ...\n",
       "16061   3420286          46     6\n",
       "16062   3420286          15     7\n",
       "16063   3420286          36     8\n",
       "16064   3420286          20     9\n",
       "16065   3420286           7    10\n",
       "\n",
       "[16066 rows x 3 columns]"
      ]
     },
     "execution_count": 21,
     "metadata": {},
     "output_type": "execute_result"
    }
   ],
   "source": [
    "data_test_final"
   ]
  },
  {
   "cell_type": "code",
   "execution_count": 22,
   "id": "7c8a3070",
   "metadata": {},
   "outputs": [
    {
     "data": {
      "text/plain": [
       "(63, 63)"
      ]
     },
     "execution_count": 22,
     "metadata": {},
     "output_type": "execute_result"
    }
   ],
   "source": [
    "len(set(data_train_final['product_id'])), len(set(data_test_final['product_id']))"
   ]
  },
  {
   "cell_type": "code",
   "execution_count": 23,
   "id": "e76b97b7",
   "metadata": {},
   "outputs": [
    {
     "data": {
      "text/plain": [
       "(24781, 1433)"
      ]
     },
     "execution_count": 23,
     "metadata": {},
     "output_type": "execute_result"
    }
   ],
   "source": [
    "len(set(data_train_final['order_id'])), len(set(data_test_final['order_id']))"
   ]
  },
  {
   "cell_type": "code",
   "execution_count": 25,
   "id": "f2de93f0",
   "metadata": {},
   "outputs": [],
   "source": [
    "data_train_final.to_csv('data_train_final.csv', index = False)\n",
    "data_test_final.to_csv('data_test_final.csv', index = False)"
   ]
  }
 ],
 "metadata": {
  "kernelspec": {
   "display_name": "Python 3 (ipykernel)",
   "language": "python",
   "name": "python3"
  },
  "language_info": {
   "codemirror_mode": {
    "name": "ipython",
    "version": 3
   },
   "file_extension": ".py",
   "mimetype": "text/x-python",
   "name": "python",
   "nbconvert_exporter": "python",
   "pygments_lexer": "ipython3",
   "version": "3.9.7"
  }
 },
 "nbformat": 4,
 "nbformat_minor": 5
}
